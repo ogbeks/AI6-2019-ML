{
 "cells": [
  {
   "cell_type": "markdown",
   "metadata": {},
   "source": [
    "#   <center>Week 2: Linear Regression frow scratch </center>"
   ]
  },
  {
   "cell_type": "markdown",
   "metadata": {},
   "source": [
    "-----------"
   ]
  },
  {
   "cell_type": "markdown",
   "metadata": {},
   "source": [
    "<strong>Objective</strong>: To build a <strong>univariate linear regression model</strong> that can predict profit given population size."
   ]
  },
  {
   "cell_type": "markdown",
   "metadata": {},
   "source": [
    "Suppose you are the CEO of a restaurant franchise and are considering different cities for opening a new outlet. The chain already has trucks in various cities and you have data for <strong>profits</strong> and <strong>populations</strong> from the cities.\n",
    "\n",
    "You would like to use this data to help you select which city to expand to next.\n",
    "\n"
   ]
  },
  {
   "cell_type": "markdown",
   "metadata": {},
   "source": [
    "---------------"
   ]
  },
  {
   "cell_type": "markdown",
   "metadata": {},
   "source": [
    "# 1.  Load data"
   ]
  },
  {
   "cell_type": "markdown",
   "metadata": {},
   "source": [
    "To load and plot the data, three python libraries(Numpy, Pandas and Matplotlib) should be used. The libraries are first imported in the codeblock below."
   ]
  },
  {
   "cell_type": "code",
   "execution_count": 3,
   "metadata": {
    "collapsed": true
   },
   "outputs": [],
   "source": [
    "# Import libraries\n",
    "import numpy as np\n",
    "import pandas as pd\n",
    "import matplotlib.pyplot as plt"
   ]
  },
  {
   "cell_type": "markdown",
   "metadata": {},
   "source": [
    "The file <strong>ex1data1.txt</strong> contains the dataset for our linear regression problem. The <strong>first column</strong> is the <strong>population</strong> of a city and the </strong>second column</strong> is the <strong>profit</strong> of a food truck in that city. A negative value for profit indicates a loss."
   ]
  },
  {
   "cell_type": "code",
   "execution_count": 4,
   "metadata": {
    "collapsed": true
   },
   "outputs": [],
   "source": [
    "# Load dataset\n",
    "column_names = [\"Population\",\"Profit\"]  \n",
    "data = pd.read_csv('ex1data1.txt', names = column_names)"
   ]
  },
  {
   "cell_type": "markdown",
   "metadata": {},
   "source": [
    "- Data shape"
   ]
  },
  {
   "cell_type": "code",
   "execution_count": 5,
   "metadata": {},
   "outputs": [
    {
     "name": "stdout",
     "output_type": "stream",
     "text": [
      "data shape: (97, 2), column size: 97, row size: 2\n"
     ]
    }
   ],
   "source": [
    "print('data shape: {}, column size: {}, row size: {}' \\\n",
    "      .format(data.shape, data.shape[0], data.shape[1]))"
   ]
  },
  {
   "cell_type": "markdown",
   "metadata": {},
   "source": [
    "-  Display 5 random samples"
   ]
  },
  {
   "cell_type": "code",
   "execution_count": 6,
   "metadata": {
    "scrolled": true
   },
   "outputs": [
    {
     "data": {
      "text/html": [
       "<div>\n",
       "<style>\n",
       "    .dataframe thead tr:only-child th {\n",
       "        text-align: right;\n",
       "    }\n",
       "\n",
       "    .dataframe thead th {\n",
       "        text-align: left;\n",
       "    }\n",
       "\n",
       "    .dataframe tbody tr th {\n",
       "        vertical-align: top;\n",
       "    }\n",
       "</style>\n",
       "<table border=\"1\" class=\"dataframe\">\n",
       "  <thead>\n",
       "    <tr style=\"text-align: right;\">\n",
       "      <th></th>\n",
       "      <th>Population</th>\n",
       "      <th>Profit</th>\n",
       "    </tr>\n",
       "  </thead>\n",
       "  <tbody>\n",
       "    <tr>\n",
       "      <th>1</th>\n",
       "      <td>5.5277</td>\n",
       "      <td>9.13020</td>\n",
       "    </tr>\n",
       "    <tr>\n",
       "      <th>51</th>\n",
       "      <td>5.3077</td>\n",
       "      <td>1.83960</td>\n",
       "    </tr>\n",
       "    <tr>\n",
       "      <th>63</th>\n",
       "      <td>14.9080</td>\n",
       "      <td>12.05400</td>\n",
       "    </tr>\n",
       "    <tr>\n",
       "      <th>19</th>\n",
       "      <td>7.0708</td>\n",
       "      <td>5.38930</td>\n",
       "    </tr>\n",
       "    <tr>\n",
       "      <th>40</th>\n",
       "      <td>5.4069</td>\n",
       "      <td>0.55657</td>\n",
       "    </tr>\n",
       "  </tbody>\n",
       "</table>\n",
       "</div>"
      ],
      "text/plain": [
       "    Population    Profit\n",
       "1       5.5277   9.13020\n",
       "51      5.3077   1.83960\n",
       "63     14.9080  12.05400\n",
       "19      7.0708   5.38930\n",
       "40      5.4069   0.55657"
      ]
     },
     "execution_count": 6,
     "metadata": {},
     "output_type": "execute_result"
    }
   ],
   "source": [
    "data.sample(5)"
   ]
  },
  {
   "cell_type": "markdown",
   "metadata": {},
   "source": [
    "- First 5 samples"
   ]
  },
  {
   "cell_type": "code",
   "execution_count": 7,
   "metadata": {
    "scrolled": false
   },
   "outputs": [
    {
     "data": {
      "text/html": [
       "<div>\n",
       "<style>\n",
       "    .dataframe thead tr:only-child th {\n",
       "        text-align: right;\n",
       "    }\n",
       "\n",
       "    .dataframe thead th {\n",
       "        text-align: left;\n",
       "    }\n",
       "\n",
       "    .dataframe tbody tr th {\n",
       "        vertical-align: top;\n",
       "    }\n",
       "</style>\n",
       "<table border=\"1\" class=\"dataframe\">\n",
       "  <thead>\n",
       "    <tr style=\"text-align: right;\">\n",
       "      <th></th>\n",
       "      <th>Population</th>\n",
       "      <th>Profit</th>\n",
       "    </tr>\n",
       "  </thead>\n",
       "  <tbody>\n",
       "    <tr>\n",
       "      <th>0</th>\n",
       "      <td>6.1101</td>\n",
       "      <td>17.5920</td>\n",
       "    </tr>\n",
       "    <tr>\n",
       "      <th>1</th>\n",
       "      <td>5.5277</td>\n",
       "      <td>9.1302</td>\n",
       "    </tr>\n",
       "    <tr>\n",
       "      <th>2</th>\n",
       "      <td>8.5186</td>\n",
       "      <td>13.6620</td>\n",
       "    </tr>\n",
       "    <tr>\n",
       "      <th>3</th>\n",
       "      <td>7.0032</td>\n",
       "      <td>11.8540</td>\n",
       "    </tr>\n",
       "    <tr>\n",
       "      <th>4</th>\n",
       "      <td>5.8598</td>\n",
       "      <td>6.8233</td>\n",
       "    </tr>\n",
       "  </tbody>\n",
       "</table>\n",
       "</div>"
      ],
      "text/plain": [
       "   Population   Profit\n",
       "0      6.1101  17.5920\n",
       "1      5.5277   9.1302\n",
       "2      8.5186  13.6620\n",
       "3      7.0032  11.8540\n",
       "4      5.8598   6.8233"
      ]
     },
     "execution_count": 7,
     "metadata": {},
     "output_type": "execute_result"
    }
   ],
   "source": [
    "data.head(5)"
   ]
  },
  {
   "cell_type": "markdown",
   "metadata": {},
   "source": [
    "- Last 5 samples"
   ]
  },
  {
   "cell_type": "code",
   "execution_count": 8,
   "metadata": {},
   "outputs": [
    {
     "data": {
      "text/html": [
       "<div>\n",
       "<style>\n",
       "    .dataframe thead tr:only-child th {\n",
       "        text-align: right;\n",
       "    }\n",
       "\n",
       "    .dataframe thead th {\n",
       "        text-align: left;\n",
       "    }\n",
       "\n",
       "    .dataframe tbody tr th {\n",
       "        vertical-align: top;\n",
       "    }\n",
       "</style>\n",
       "<table border=\"1\" class=\"dataframe\">\n",
       "  <thead>\n",
       "    <tr style=\"text-align: right;\">\n",
       "      <th></th>\n",
       "      <th>Population</th>\n",
       "      <th>Profit</th>\n",
       "    </tr>\n",
       "  </thead>\n",
       "  <tbody>\n",
       "    <tr>\n",
       "      <th>92</th>\n",
       "      <td>5.8707</td>\n",
       "      <td>7.20290</td>\n",
       "    </tr>\n",
       "    <tr>\n",
       "      <th>93</th>\n",
       "      <td>5.3054</td>\n",
       "      <td>1.98690</td>\n",
       "    </tr>\n",
       "    <tr>\n",
       "      <th>94</th>\n",
       "      <td>8.2934</td>\n",
       "      <td>0.14454</td>\n",
       "    </tr>\n",
       "    <tr>\n",
       "      <th>95</th>\n",
       "      <td>13.3940</td>\n",
       "      <td>9.05510</td>\n",
       "    </tr>\n",
       "    <tr>\n",
       "      <th>96</th>\n",
       "      <td>5.4369</td>\n",
       "      <td>0.61705</td>\n",
       "    </tr>\n",
       "  </tbody>\n",
       "</table>\n",
       "</div>"
      ],
      "text/plain": [
       "    Population   Profit\n",
       "92      5.8707  7.20290\n",
       "93      5.3054  1.98690\n",
       "94      8.2934  0.14454\n",
       "95     13.3940  9.05510\n",
       "96      5.4369  0.61705"
      ]
     },
     "execution_count": 8,
     "metadata": {},
     "output_type": "execute_result"
    }
   ],
   "source": [
    "data.tail(5)"
   ]
  },
  {
   "cell_type": "markdown",
   "metadata": {},
   "source": [
    "----------"
   ]
  },
  {
   "cell_type": "markdown",
   "metadata": {},
   "source": [
    "# 2. Exploratory Data Analysis"
   ]
  },
  {
   "cell_type": "code",
   "execution_count": 9,
   "metadata": {},
   "outputs": [
    {
     "data": {
      "text/html": [
       "<div>\n",
       "<style>\n",
       "    .dataframe thead tr:only-child th {\n",
       "        text-align: right;\n",
       "    }\n",
       "\n",
       "    .dataframe thead th {\n",
       "        text-align: left;\n",
       "    }\n",
       "\n",
       "    .dataframe tbody tr th {\n",
       "        vertical-align: top;\n",
       "    }\n",
       "</style>\n",
       "<table border=\"1\" class=\"dataframe\">\n",
       "  <thead>\n",
       "    <tr style=\"text-align: right;\">\n",
       "      <th></th>\n",
       "      <th>Population</th>\n",
       "      <th>Profit</th>\n",
       "    </tr>\n",
       "  </thead>\n",
       "  <tbody>\n",
       "    <tr>\n",
       "      <th>count</th>\n",
       "      <td>97.000000</td>\n",
       "      <td>97.000000</td>\n",
       "    </tr>\n",
       "    <tr>\n",
       "      <th>mean</th>\n",
       "      <td>8.159800</td>\n",
       "      <td>5.839135</td>\n",
       "    </tr>\n",
       "    <tr>\n",
       "      <th>std</th>\n",
       "      <td>3.869884</td>\n",
       "      <td>5.510262</td>\n",
       "    </tr>\n",
       "    <tr>\n",
       "      <th>min</th>\n",
       "      <td>5.026900</td>\n",
       "      <td>-2.680700</td>\n",
       "    </tr>\n",
       "    <tr>\n",
       "      <th>25%</th>\n",
       "      <td>5.707700</td>\n",
       "      <td>1.986900</td>\n",
       "    </tr>\n",
       "    <tr>\n",
       "      <th>50%</th>\n",
       "      <td>6.589400</td>\n",
       "      <td>4.562300</td>\n",
       "    </tr>\n",
       "    <tr>\n",
       "      <th>75%</th>\n",
       "      <td>8.578100</td>\n",
       "      <td>7.046700</td>\n",
       "    </tr>\n",
       "    <tr>\n",
       "      <th>max</th>\n",
       "      <td>22.203000</td>\n",
       "      <td>24.147000</td>\n",
       "    </tr>\n",
       "  </tbody>\n",
       "</table>\n",
       "</div>"
      ],
      "text/plain": [
       "       Population     Profit\n",
       "count   97.000000  97.000000\n",
       "mean     8.159800   5.839135\n",
       "std      3.869884   5.510262\n",
       "min      5.026900  -2.680700\n",
       "25%      5.707700   1.986900\n",
       "50%      6.589400   4.562300\n",
       "75%      8.578100   7.046700\n",
       "max     22.203000  24.147000"
      ]
     },
     "execution_count": 9,
     "metadata": {},
     "output_type": "execute_result"
    }
   ],
   "source": [
    "#Data Summary\n",
    "data.describe()"
   ]
  },
  {
   "cell_type": "code",
   "execution_count": 10,
   "metadata": {},
   "outputs": [
    {
     "data": {
      "text/html": [
       "<style  type=\"text/css\" >\n",
       "    #T_a3239c68_dfe9_11e9_a939_e02a82828932row0_col0 {\n",
       "            background-color:  #5e4fa2;\n",
       "        }    #T_a3239c68_dfe9_11e9_a939_e02a82828932row0_col1 {\n",
       "            background-color:  #9e0142;\n",
       "        }    #T_a3239c68_dfe9_11e9_a939_e02a82828932row1_col0 {\n",
       "            background-color:  #9e0142;\n",
       "        }    #T_a3239c68_dfe9_11e9_a939_e02a82828932row1_col1 {\n",
       "            background-color:  #5e4fa2;\n",
       "        }</style>  \n",
       "<table id=\"T_a3239c68_dfe9_11e9_a939_e02a82828932\" > \n",
       "<thead>    <tr> \n",
       "        <th class=\"blank level0\" ></th> \n",
       "        <th class=\"col_heading level0 col0\" >Population</th> \n",
       "        <th class=\"col_heading level0 col1\" >Profit</th> \n",
       "    </tr></thead> \n",
       "<tbody>    <tr> \n",
       "        <th id=\"T_a3239c68_dfe9_11e9_a939_e02a82828932level0_row0\" class=\"row_heading level0 row0\" >Population</th> \n",
       "        <td id=\"T_a3239c68_dfe9_11e9_a939_e02a82828932row0_col0\" class=\"data row0 col0\" >1</td> \n",
       "        <td id=\"T_a3239c68_dfe9_11e9_a939_e02a82828932row0_col1\" class=\"data row0 col1\" >0.837873</td> \n",
       "    </tr>    <tr> \n",
       "        <th id=\"T_a3239c68_dfe9_11e9_a939_e02a82828932level0_row1\" class=\"row_heading level0 row1\" >Profit</th> \n",
       "        <td id=\"T_a3239c68_dfe9_11e9_a939_e02a82828932row1_col0\" class=\"data row1 col0\" >0.837873</td> \n",
       "        <td id=\"T_a3239c68_dfe9_11e9_a939_e02a82828932row1_col1\" class=\"data row1 col1\" >1</td> \n",
       "    </tr></tbody> \n",
       "</table> "
      ],
      "text/plain": [
       "<pandas.io.formats.style.Styler at 0x22bc7b50128>"
      ]
     },
     "execution_count": 10,
     "metadata": {},
     "output_type": "execute_result"
    }
   ],
   "source": [
    "# Correlation \n",
    "corr = data.corr()\n",
    "corr.style.background_gradient(cmap='Spectral')"
   ]
  },
  {
   "cell_type": "code",
   "execution_count": 11,
   "metadata": {},
   "outputs": [
    {
     "data": {
      "text/html": [
       "<style  type=\"text/css\" >\n",
       "    #T_a35eaa68_dfe9_11e9_bf4d_e02a82828932row0_col0 {\n",
       "            background-color:  #9e0142;\n",
       "        }    #T_a35eaa68_dfe9_11e9_bf4d_e02a82828932row0_col1 {\n",
       "            background-color:  #9e0142;\n",
       "        }    #T_a35eaa68_dfe9_11e9_bf4d_e02a82828932row1_col0 {\n",
       "            background-color:  #5e4fa2;\n",
       "        }    #T_a35eaa68_dfe9_11e9_bf4d_e02a82828932row1_col1 {\n",
       "            background-color:  #5e4fa2;\n",
       "        }</style>  \n",
       "<table id=\"T_a35eaa68_dfe9_11e9_bf4d_e02a82828932\" > \n",
       "<thead>    <tr> \n",
       "        <th class=\"blank level0\" ></th> \n",
       "        <th class=\"col_heading level0 col0\" >Population</th> \n",
       "        <th class=\"col_heading level0 col1\" >Profit</th> \n",
       "    </tr></thead> \n",
       "<tbody>    <tr> \n",
       "        <th id=\"T_a35eaa68_dfe9_11e9_bf4d_e02a82828932level0_row0\" class=\"row_heading level0 row0\" >Population</th> \n",
       "        <td id=\"T_a35eaa68_dfe9_11e9_bf4d_e02a82828932row0_col0\" class=\"data row0 col0\" >14.976</td> \n",
       "        <td id=\"T_a35eaa68_dfe9_11e9_bf4d_e02a82828932row0_col1\" class=\"data row0 col1\" >17.8669</td> \n",
       "    </tr>    <tr> \n",
       "        <th id=\"T_a35eaa68_dfe9_11e9_bf4d_e02a82828932level0_row1\" class=\"row_heading level0 row1\" >Profit</th> \n",
       "        <td id=\"T_a35eaa68_dfe9_11e9_bf4d_e02a82828932row1_col0\" class=\"data row1 col0\" >17.8669</td> \n",
       "        <td id=\"T_a35eaa68_dfe9_11e9_bf4d_e02a82828932row1_col1\" class=\"data row1 col1\" >30.363</td> \n",
       "    </tr></tbody> \n",
       "</table> "
      ],
      "text/plain": [
       "<pandas.io.formats.style.Styler at 0x22bc7ae4b70>"
      ]
     },
     "execution_count": 11,
     "metadata": {},
     "output_type": "execute_result"
    }
   ],
   "source": [
    "# Covariance\n",
    "cov = data.cov()\n",
    "cov.style.background_gradient(cmap='Spectral')"
   ]
  },
  {
   "cell_type": "markdown",
   "metadata": {},
   "source": [
    "-----"
   ]
  },
  {
   "cell_type": "markdown",
   "metadata": {},
   "source": [
    "## 2.1. Visualization "
   ]
  },
  {
   "cell_type": "markdown",
   "metadata": {},
   "source": [
    "It is a good practice to visualize your data before building a model. The aim of data visualization is to give you an insight on the problem. We will be using <strong>matplotlib</strong>  and <strong>seaborn</strong> libracy for visuals."
   ]
  },
  {
   "cell_type": "markdown",
   "metadata": {},
   "source": [
    "- Boxplot"
   ]
  },
  {
   "cell_type": "code",
   "execution_count": 12,
   "metadata": {
    "scrolled": false
   },
   "outputs": [
    {
     "data": {
      "text/plain": [
       "<matplotlib.axes._subplots.AxesSubplot at 0x22bc7b5ea58>"
      ]
     },
     "execution_count": 12,
     "metadata": {},
     "output_type": "execute_result"
    }
   ],
   "source": [
    "data.Population.plot(kind='box', figsize=(8,8), color='brown')"
   ]
  },
  {
   "cell_type": "markdown",
   "metadata": {},
   "source": [
    "- Histogram"
   ]
  },
  {
   "cell_type": "code",
   "execution_count": 13,
   "metadata": {},
   "outputs": [
    {
     "data": {
      "text/plain": [
       "<matplotlib.axes._subplots.AxesSubplot at 0x22bc7b5ea58>"
      ]
     },
     "execution_count": 13,
     "metadata": {},
     "output_type": "execute_result"
    }
   ],
   "source": [
    "data.Population.plot(kind='hist', figsize=(12,8))"
   ]
  },
  {
   "cell_type": "code",
   "execution_count": 14,
   "metadata": {},
   "outputs": [
    {
     "data": {
      "text/plain": [
       "<matplotlib.axes._subplots.AxesSubplot at 0x22bc7b5ea58>"
      ]
     },
     "execution_count": 14,
     "metadata": {},
     "output_type": "execute_result"
    }
   ],
   "source": [
    "data.Profit.plot(kind='hist', figsize=(12,8), color='red')"
   ]
  },
  {
   "cell_type": "markdown",
   "metadata": {},
   "source": [
    "- Scatterplot"
   ]
  },
  {
   "cell_type": "code",
   "execution_count": 15,
   "metadata": {},
   "outputs": [
    {
     "data": {
      "text/plain": [
       "Text(0,0.5,'Profit in $10,000s')"
      ]
     },
     "execution_count": 15,
     "metadata": {},
     "output_type": "execute_result"
    }
   ],
   "source": [
    "# scatterplot\n",
    "data.plot(kind = 'scatter', x = 'Population', y = 'Profit',\n",
    "          s= 40, color = 'blue', figsize=(12,8))\n",
    "\n",
    "# labels\n",
    "plt.xlabel('Population of City in 10,000s', fontsize = 14)\n",
    "plt.ylabel('Profit in $10,000s', fontsize =14)"
   ]
  },
  {
   "cell_type": "markdown",
   "metadata": {},
   "source": [
    "-----"
   ]
  },
  {
   "cell_type": "markdown",
   "metadata": {},
   "source": [
    "# 3. Problem Formulation"
   ]
  },
  {
   "cell_type": "markdown",
   "metadata": {},
   "source": [
    "From the exploratory data analysis we can observe there is a positive correlation between the two variables. This means that we can develop a model that will be able to make reasonable predictions"
   ]
  },
  {
   "cell_type": "markdown",
   "metadata": {},
   "source": [
    "We have 97 training examples and one independent variable `x` on the first column and one dependent variable `y` on the second column\n",
    "\n",
    "**Recall:**\n",
    "- Our untrained model is given by: ![title](img/model.gif)\n",
    "    \n",
    "- Which you can also be written as ![title](img/model2.gif)\n",
    "\n",
    "where:\n",
    "- `x` is the input values\n",
    "- `y` is the ground truth or actual values\n",
    "- `theta` is the <strong>weight or learnable<strong> parameters  \n",
    "\n"
   ]
  },
  {
   "cell_type": "code",
   "execution_count": 16,
   "metadata": {
    "collapsed": true
   },
   "outputs": [],
   "source": [
    "# input values - xs and 1s\n",
    "nrows = data.shape[0]\n",
    "ncols = data.shape[1]\n",
    "\n",
    "x = data.loc[:, 'Population'].values #converts to Numpy array\n",
    "x = x.reshape(nrows, 1)  # Alternatively x.reshape(-1,1)"
   ]
  },
  {
   "cell_type": "code",
   "execution_count": 17,
   "metadata": {},
   "outputs": [
    {
     "data": {
      "text/plain": [
       "(97, 1)"
      ]
     },
     "execution_count": 17,
     "metadata": {},
     "output_type": "execute_result"
    }
   ],
   "source": [
    "x.shape"
   ]
  },
  {
   "cell_type": "markdown",
   "metadata": {},
   "source": [
    "Because `x_0` is `1`, we want to create a `97 x 2` matrix that contains the input values on the first column and ones in the second column."
   ]
  },
  {
   "cell_type": "code",
   "execution_count": 18,
   "metadata": {
    "collapsed": true
   },
   "outputs": [],
   "source": [
    "one_stack = np.ones((nrows,1))\n",
    "x_stack = np.hstack((x, one_stack))"
   ]
  },
  {
   "cell_type": "code",
   "execution_count": 19,
   "metadata": {
    "scrolled": true
   },
   "outputs": [
    {
     "data": {
      "text/plain": [
       "array([[ 6.1101,  1.    ],\n",
       "       [ 5.5277,  1.    ],\n",
       "       [ 8.5186,  1.    ]])"
      ]
     },
     "execution_count": 19,
     "metadata": {},
     "output_type": "execute_result"
    }
   ],
   "source": [
    "x_stack[:3]"
   ]
  },
  {
   "cell_type": "code",
   "execution_count": 20,
   "metadata": {
    "collapsed": true
   },
   "outputs": [],
   "source": [
    "# output variable\n",
    "y = data.loc[:, 'Profit'].values # converts to Numpy array\n",
    "y = y.reshape(nrows,1)"
   ]
  },
  {
   "cell_type": "code",
   "execution_count": 21,
   "metadata": {},
   "outputs": [
    {
     "data": {
      "text/plain": [
       "(97, 1)"
      ]
     },
     "execution_count": 21,
     "metadata": {},
     "output_type": "execute_result"
    }
   ],
   "source": [
    "y.shape"
   ]
  },
  {
   "cell_type": "markdown",
   "metadata": {},
   "source": [
    "# 4. Model Building"
   ]
  },
  {
   "cell_type": "markdown",
   "metadata": {},
   "source": [
    "Recall from the class, the process to training a linear regression model is as follow.\n",
    "\n",
    "We want to find the appropriate value of `theta` that will give us a good estimate of a city's profit if lthe city's population is supplied.\n",
    "\n",
    "To do this, \n",
    "- We want to start with a random value of `theta` to generate a hypothesis\n",
    "![title](img/model3.gif)\n",
    "\n",
    "- Then continually correct values of `theta` until the deviation of the hypothesis/prediction `h` from the ground-truth `y` is greatly reduced\n",
    "\n",
    "**Note:** \n",
    "- Matrix multiplication was utilized for the calculation. "
   ]
  },
  {
   "cell_type": "code",
   "execution_count": 22,
   "metadata": {
    "collapsed": true
   },
   "outputs": [],
   "source": [
    "def train(x,y,iteration,print_every,alpha):\n",
    "    #print_every = 50 \n",
    "    #iteration = 2500\n",
    "    \n",
    "    # Zero initialization of parameters \n",
    "    theta = [[0],[0]]\n",
    "    \n",
    "    # Here, want to save our cost function or loss or square error, \n",
    "    # so that we can have an idea of how the deviation of the hypothesis from the ground thruth reduces\n",
    "    cost_function = np.zeros(iteration)\n",
    "    \n",
    "    for i in range(0, iteration):\n",
    "        # Step 1: we make a prediction using the random weights (theta) that we initialized\n",
    "        # @ is a fancy way do performing dot products\n",
    "        h = x @ theta\n",
    "        \n",
    "        # Step 2: We take a step to correct the weights (theta) to that the next predicion will be better\n",
    "        theta = update_weight(h, theta, x,alpha)\n",
    "        \n",
    "        # Step 3: We measure the deviation or error\n",
    "        cost_function[i] = cost(x, theta)\n",
    "        \n",
    "        # Display result every 50 iterations\n",
    "        if i % print_every  == 0:\n",
    "            print(\"Iteration: {}, Cost function: {} \".format(i, cost_function[i]))\n",
    "    \n",
    "    return theta, cost_function"
   ]
  },
  {
   "cell_type": "markdown",
   "metadata": {},
   "source": [
    "But how do we check the error like we defined above?\n",
    "\n",
    "Remember the error formular (cost function)? \n",
    "![title](img/model44.gif)\n",
    "\n",
    "where:\n",
    "- `m` is the number of training example\n",
    "- `x` is the input data\n",
    "- `h` is the hypothesis\n",
    "- `y` is the prediction\n",
    "\n",
    "The equation tries to find the square error between the ground truth and the prediction.\n",
    "\n"
   ]
  },
  {
   "cell_type": "code",
   "execution_count": 35,
   "metadata": {
    "collapsed": true
   },
   "outputs": [],
   "source": [
    "def cost(x, theta):\n",
    "    m = nrows\n",
    "    h = x @ theta\n",
    "    return (1/ (2 * m)) * np.sum(np.square(h - y))"
   ]
  },
  {
   "cell_type": "markdown",
   "metadata": {},
   "source": [
    "Now that we are able to get a sense of the error, how do we update how weight (theta) such that is predicts better?\n",
    "\n",
    "Like we discussed in class, gradient descent algorithim will be used for this purpose.\n",
    "\n",
    "The general formular for gradient is given below:\n",
    "![title](img/model6.gif)\n",
    "which can be differentiated to give:\n",
    "![title](img/model5.gif)\n",
    "where\n",
    "- alpha is the <strong>learning rate</strong>\n",
    "\n",
    "ie: we continually update the weight(theta) by taking steps(alpha) for the derived gradient of the error until we have sufficiently minimized theta."
   ]
  },
  {
   "cell_type": "code",
   "execution_count": 36,
   "metadata": {
    "collapsed": true
   },
   "outputs": [],
   "source": [
    "def update_weight(h, theta, x,alpha):\n",
    "    m = nrows\n",
    "    #alpha = 0.001\n",
    "    theta = theta - alpha * (1 / m * ( x.T @ (h - y)))\n",
    "    return theta"
   ]
  },
  {
   "cell_type": "markdown",
   "metadata": {},
   "source": [
    "- Now, lets pass in our data and train."
   ]
  },
  {
   "cell_type": "code",
   "execution_count": 45,
   "metadata": {
    "scrolled": false
   },
   "outputs": [
    {
     "name": "stdout",
     "output_type": "stream",
     "text": [
      "Iteration: 0, Cost function: 6.737190464870006 \n",
      "Iteration: 50, Cost function: 5.673965480401505 \n",
      "Iteration: 100, Cost function: 5.476362817272741 \n",
      "Iteration: 150, Cost function: 5.311380876611354 \n",
      "Iteration: 200, Cost function: 5.173634551165021 \n",
      "Iteration: 250, Cost function: 5.05862772012701 \n",
      "Iteration: 300, Cost function: 4.962606493117519 \n",
      "Iteration: 350, Cost function: 4.88243668100122 \n",
      "Iteration: 400, Cost function: 4.815501494116686 \n",
      "Iteration: 450, Cost function: 4.759616128727925 \n",
      "Iteration: 500, Cost function: 4.712956453749759 \n",
      "Iteration: 550, Cost function: 4.673999470039924 \n",
      "Iteration: 600, Cost function: 4.6414735988143185 \n",
      "Iteration: 650, Cost function: 4.614317176570121 \n",
      "Iteration: 700, Cost function: 4.591643801766726 \n",
      "Iteration: 750, Cost function: 4.5727134021598665 \n",
      "Iteration: 800, Cost function: 4.556908078409751 \n",
      "Iteration: 850, Cost function: 4.543711935484408 \n",
      "Iteration: 900, Cost function: 4.532694243543437 \n",
      "Iteration: 950, Cost function: 4.523495378663532 \n",
      "Iteration: 1000, Cost function: 4.515815084502823 \n",
      "Iteration: 1050, Cost function: 4.509402671757868 \n",
      "Iteration: 1100, Cost function: 4.504048835517842 \n",
      "Iteration: 1150, Cost function: 4.499578823429556 \n",
      "Iteration: 1200, Cost function: 4.495846731678218 \n",
      "Iteration: 1250, Cost function: 4.492730742601387 \n",
      "Iteration: 1300, Cost function: 4.490129148489064 \n",
      "Iteration: 1350, Cost function: 4.487957031784419 \n",
      "Iteration: 1400, Cost function: 4.486143493324961 \n",
      "Iteration: 1450, Cost function: 4.484629338152312 \n",
      "Iteration: 1500, Cost function: 4.483365143354072 \n",
      "Iteration: 1550, Cost function: 4.482309644870977 \n",
      "Iteration: 1600, Cost function: 4.481428390613829 \n",
      "Iteration: 1650, Cost function: 4.480692615927099 \n",
      "Iteration: 1700, Cost function: 4.480078304693717 \n",
      "Iteration: 1750, Cost function: 4.479565405434929 \n",
      "Iteration: 1800, Cost function: 4.479137176818275 \n",
      "Iteration: 1850, Cost function: 4.47877964121069 \n",
      "Iteration: 1900, Cost function: 4.47848112844036 \n",
      "Iteration: 1950, Cost function: 4.478231894875481 \n",
      "Iteration: 2000, Cost function: 4.4780238053864 \n",
      "Iteration: 2050, Cost function: 4.4778500678102136 \n",
      "Iteration: 2100, Cost function: 4.477705011250594 \n",
      "Iteration: 2150, Cost function: 4.4775839009764065 \n",
      "Iteration: 2200, Cost function: 4.477482783877311 \n",
      "Iteration: 2250, Cost function: 4.477398359431916 \n",
      "Iteration: 2300, Cost function: 4.477327871976838 \n",
      "Iteration: 2350, Cost function: 4.477269020760227 \n",
      "Iteration: 2400, Cost function: 4.477219884843872 \n",
      "Iteration: 2450, Cost function: 4.477178860402662 \n"
     ]
    }
   ],
   "source": [
    "theta, cost_values = train(x_stack,y,2500,50,0.01)"
   ]
  },
  {
   "cell_type": "code",
   "execution_count": 38,
   "metadata": {},
   "outputs": [
    {
     "data": {
      "text/plain": [
       "array([ 27.94761975,  24.47289937,  21.54601437, ...,   5.06157931,\n",
       "         5.06136856,   5.0611579 ])"
      ]
     },
     "execution_count": 38,
     "metadata": {},
     "output_type": "execute_result"
    }
   ],
   "source": [
    "# Now, lets see our cost_values\n",
    "cost_values"
   ]
  },
  {
   "cell_type": "code",
   "execution_count": 39,
   "metadata": {},
   "outputs": [
    {
     "data": {
      "text/plain": [
       "array([ 27.94761975,  24.47289937,  21.54601437, ...,   5.06157931,\n",
       "         5.06136856,   5.0611579 ])"
      ]
     },
     "execution_count": 39,
     "metadata": {},
     "output_type": "execute_result"
    }
   ],
   "source": [
    "cost_values"
   ]
  },
  {
   "cell_type": "code",
   "execution_count": 40,
   "metadata": {},
   "outputs": [
    {
     "name": "stdout",
     "output_type": "stream",
     "text": [
      "Our learned value of theta:  [ 0.93855117 -1.36263013]\n"
     ]
    }
   ],
   "source": [
    "# Now, lets see our trained weights\n",
    "print('Our learned value of theta: ',theta.ravel())"
   ]
  },
  {
   "cell_type": "code",
   "execution_count": 41,
   "metadata": {},
   "outputs": [
    {
     "data": {
      "text/plain": [
       "(2, 1)"
      ]
     },
     "execution_count": 41,
     "metadata": {},
     "output_type": "execute_result"
    }
   ],
   "source": [
    "theta.shape"
   ]
  },
  {
   "cell_type": "code",
   "execution_count": 42,
   "metadata": {},
   "outputs": [
    {
     "data": {
      "text/plain": [
       "(2,)"
      ]
     },
     "execution_count": 42,
     "metadata": {},
     "output_type": "execute_result"
    }
   ],
   "source": [
    "theta.ravel().shape # Alternatively theta.squeeze().shape"
   ]
  },
  {
   "cell_type": "code",
   "execution_count": 31,
   "metadata": {
    "scrolled": true
   },
   "outputs": [
    {
     "data": {
      "image/png": "[encoded data removed]",
      "text/plain": [
       "<matplotlib.figure.Figure at 0x22bc7b5e470>"
      ]
     },
     "metadata": {},
     "output_type": "display_data"
    },
    {
     "data": {
      "image/png": "[encoded data removed]",
      "text/plain": [
       "<matplotlib.figure.Figure at 0x22bc8019668>"
      ]
     },
     "metadata": {},
     "output_type": "display_data"
    }
   ],
   "source": [
    "plt.plot(cost_values)\n",
    "plt.ylabel('Cost J')\n",
    "plt.xlabel('Iterations')\n",
    "plt.show()"
   ]
  },
  {
   "cell_type": "markdown",
   "metadata": {},
   "source": [
    "Notice that at the `1500th iteration`, the model doesnt really change anymore. You should actually stop the iteration at that time and save cost of processing"
   ]
  },
  {
   "cell_type": "code",
   "execution_count": 32,
   "metadata": {},
   "outputs": [
    {
     "data": {
      "text/plain": [
       "[<matplotlib.lines.Line2D at 0x22bc805eef0>]"
      ]
     },
     "execution_count": 32,
     "metadata": {},
     "output_type": "execute_result"
    }
   ],
   "source": [
    "x_plot = np.arange(5,23)\n",
    "y_plot = theta[0]*x_plot + theta[1]\n",
    "# Plot gradient descent\n",
    "plt.scatter(x[:,0], y, s=30, c='r', marker='o', linewidths=1)\n",
    "plt.plot(x_plot,y_plot, label='Linear regression (Gradient descent)')"
   ]
  },
  {
   "cell_type": "markdown",
   "metadata": {},
   "source": [
    "---------------"
   ]
  },
  {
   "cell_type": "markdown",
   "metadata": {},
   "source": [
    "## 5. Prediction "
   ]
  },
  {
   "cell_type": "markdown",
   "metadata": {},
   "source": [
    "Here, I hard coded the learned weights in the model that we defined earlier.\n",
    "![Title](img/model.gif)"
   ]
  },
  {
   "cell_type": "code",
   "execution_count": 46,
   "metadata": {
    "collapsed": true
   },
   "outputs": [],
   "source": [
    "def predict():\n",
    "    input_ = float(input('Enter the population size(10,000): '))\n",
    "    print(\"For a population of {}, the estimated profit is ${}\".format(input_, input_ * 1.2334223))"
   ]
  },
  {
   "cell_type": "code",
   "execution_count": 47,
   "metadata": {
    "scrolled": true
   },
   "outputs": [
    {
     "name": "stdout",
     "output_type": "stream",
     "text": [
      "Enter the population size(10,000): 5000\n",
      "For a population of 5000.0, the estimated profit is $[[  5943.21742698]\n",
      " [-19260.40340668]]\n"
     ]
    }
   ],
   "source": [
    "predict()"
   ]
  },
  {
   "cell_type": "markdown",
   "metadata": {},
   "source": [
    "----------------------"
   ]
  },
  {
   "cell_type": "markdown",
   "metadata": {},
   "source": [
    "# Assignment"
   ]
  },
  {
   "cell_type": "markdown",
   "metadata": {},
   "source": [
    "\n",
    "1. Use `scikit-learn` to develop a linear regression model using the same dataset in this practice and compare result.\n",
    "2. Apply data normalization and compare the your solution with the  above result.\n",
    "3. Rewrite the train function such that we pass   `'iteration', 'print_every' and 'alpha'` as arguments.\n",
    "\n",
    "\n",
    "Assignment is due for submission on `26/09/2019`.\n",
    "\n",
    "Summission link will be posted on the `SLACK CHANNEL/MAIL`?"
   ]
  },
  {
   "cell_type": "markdown",
   "metadata": {},
   "source": [
    "------------------"
   ]
  },
  {
   "cell_type": "markdown",
   "metadata": {},
   "source": [
    "## Credit"
   ]
  },
  {
   "cell_type": "markdown",
   "metadata": {},
   "source": [
    "This exercise is adapted from [Andrew Ng Machine Learning Course](https://www.coursera.org/learn/machine-learning)."
   ]
  }
 ],
 "metadata": {
  "kernelspec": {
   "display_name": "Python 3",
   "language": "python",
   "name": "python3"
  },
  "language_info": {
   "codemirror_mode": {
    "name": "ipython",
    "version": 3
   },
   "file_extension": ".py",
   "mimetype": "text/x-python",
   "name": "python",
   "nbconvert_exporter": "python",
   "pygments_lexer": "ipython3",
   "version": "3.6.3"
  }
 },
 "nbformat": 4,
 "nbformat_minor": 2
}
